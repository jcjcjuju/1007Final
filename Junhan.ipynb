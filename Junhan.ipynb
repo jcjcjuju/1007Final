{
 "cells": [
  {
   "cell_type": "code",
   "execution_count": null,
   "metadata": {},
   "outputs": [],
   "source": [
    "#找规律，相关度（heatmap）\n",
    "\n",
    "#前期的数据检视 (column)\n"
   ]
  }
 ],
 "metadata": {
  "language_info": {
   "name": "python"
  }
 },
 "nbformat": 4,
 "nbformat_minor": 2
}
